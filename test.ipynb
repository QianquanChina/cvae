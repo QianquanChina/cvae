{
 "cells": [
  {
   "metadata": {
    "ExecuteTime": {
     "end_time": "2024-12-16T02:55:24.051800Z",
     "start_time": "2024-12-16T02:55:21.188007Z"
    }
   },
   "cell_type": "code",
   "source": [
    "import torch\n",
    "import matplotlib.pyplot as plt\n",
    "\n",
    "from models import CVae\n"
   ],
   "id": "f5f3303fe8b28c35",
   "outputs": [],
   "execution_count": 1
  },
  {
   "cell_type": "code",
   "id": "initial_id",
   "metadata": {
    "collapsed": true,
    "ExecuteTime": {
     "end_time": "2024-12-16T02:56:11.406700Z",
     "start_time": "2024-12-16T02:56:10.327501Z"
    }
   },
   "source": [
    "model_weight_path = \"/data/CVae/Weight/vae_epoch_dim20_20.pth\"\n",
    "\n",
    "device = torch.device(\"cuda\" if torch.cuda.is_available() else \"cpu\")\n",
    "vae = CVae(in_channels=1, num_classes=10, embed_dim=10, latent_dim=20).to(device)\n",
    "vae.load_state_dict(torch.load(model_weight_path, weights_only=True))"
   ],
   "outputs": [
    {
     "data": {
      "text/plain": [
       "<All keys matched successfully>"
      ]
     },
     "execution_count": 2,
     "metadata": {},
     "output_type": "execute_result"
    }
   ],
   "execution_count": 2
  },
  {
   "metadata": {
    "ExecuteTime": {
     "end_time": "2024-12-16T02:56:17.973191Z",
     "start_time": "2024-12-16T02:56:13.407168Z"
    }
   },
   "cell_type": "code",
   "source": [
    "# 随机采样 生成图\n",
    "image_latent = torch.randn((1, 20)).to(device)\n",
    "print(image_latent)\n",
    "image_tensor = vae.decode(image_latent, torch.tensor([6]).to(device))\n",
    "image_data = image_tensor.squeeze(0).cpu().detach().numpy().reshape(32, 32)\n",
    "plt.figure(figsize=(2, 2))\n",
    "plt.imshow(image_data, cmap='gray')"
   ],
   "id": "66a98c68454cc4ca",
   "outputs": [
    {
     "name": "stdout",
     "output_type": "stream",
     "text": [
      "tensor([[-0.0819,  0.6112,  0.8542,  0.2032,  0.9629, -0.8633, -0.4332, -1.0578,\n",
      "         -0.4973, -1.6474, -0.3672,  0.1214, -0.7277, -1.0039, -0.3563,  0.1645,\n",
      "         -0.3311, -1.6908,  0.1201,  0.4539]], device='cuda:0')\n"
     ]
    },
    {
     "data": {
      "text/plain": [
       "<matplotlib.image.AxesImage at 0x7fda25eca9e0>"
      ]
     },
     "execution_count": 3,
     "metadata": {},
     "output_type": "execute_result"
    },
    {
     "data": {
      "text/plain": [
       "<Figure size 200x200 with 1 Axes>"
      ],
      "image/png": "[encoded data removed]"
     },
     "metadata": {},
     "output_type": "display_data"
    }
   ],
   "execution_count": 3
  }
 ],
 "metadata": {
  "kernelspec": {
   "display_name": "Python 3",
   "language": "python",
   "name": "python3"
  },
  "language_info": {
   "codemirror_mode": {
    "name": "ipython",
    "version": 2
   },
   "file_extension": ".py",
   "mimetype": "text/x-python",
   "name": "python",
   "nbconvert_exporter": "python",
   "pygments_lexer": "ipython2",
   "version": "2.7.6"
  }
 },
 "nbformat": 4,
 "nbformat_minor": 5
}
